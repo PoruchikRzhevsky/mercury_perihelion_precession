{
 "cells": [
  {
   "cell_type": "code",
   "execution_count": null,
   "metadata": {},
   "outputs": [],
   "source": [
    "# Importing libraries\n",
    "import numpy as np\n",
    "\n",
    "import matplotlib.pyplot as plt\n",
    "import matplotlib.animation as animation\n",
    "\n",
    "from IPython.display import display, HTML\n",
    "\n",
    "from scipy.constants import c, G, astronomical_unit as AU"
   ]
  },
  {
   "cell_type": "code",
   "execution_count": null,
   "metadata": {},
   "outputs": [],
   "source": [
    "# Plot settings\n",
    "plt.rc(\"font\", size=10)\n",
    "plt.rcParams['font.family'] = 'Liberation Serif'"
   ]
  },
  {
   "cell_type": "code",
   "execution_count": null,
   "metadata": {},
   "outputs": [],
   "source": [
    "# Constants\n",
    "M_sun = 1.9884e30  # kg\n",
    "\n",
    "# Mercury parameters\n",
    "M_mercury = 0.3301e24  # kg\n",
    "T_mercury = 87.969  # days\n",
    "semi_major_axis = 57.909e9  # meters\n",
    "eccentricity = 0.2056"
   ]
  },
  {
   "cell_type": "code",
   "execution_count": null,
   "metadata": {},
   "outputs": [],
   "source": [
    "# Calculating perehelion distans and initial velocity at perihelion using Kepler's equation\n",
    "perihelion_distance = semi_major_axis * (1 - eccentricity)\n",
    "\n",
    "print(f\"perihelion_distance = {perihelion_distance:.2e} m\")\n",
    "\n",
    "v_perihelion = np.sqrt(G * M_sun * (1 + eccentricity) / (semi_major_axis * (1 - eccentricity)))\n",
    "\n",
    "print(f\"v_perihelion = {v_perihelion:.2e} m/s\")\n",
    "\n",
    "# Calculating base acceleration at perihelion\n",
    "a_perihelion = G * M_sun / perihelion_distance**2\n",
    "\n",
    "print(f\"a_perihelion = {a_perihelion:.2e} m/s^2\")"
   ]
  },
  {
   "cell_type": "code",
   "execution_count": null,
   "metadata": {},
   "outputs": [],
   "source": [
    "# Time parameters\n",
    "T = 100 * T_mercury # iteractions in days\n",
    "dt = (2 * v_perihelion / a_perihelion) / 86400 / 20 # days\n",
    "\n",
    "steps = int(T / dt)\n",
    "\n",
    "print(f\"steps = {steps}\")"
   ]
  },
  {
   "cell_type": "code",
   "execution_count": null,
   "metadata": {},
   "outputs": [],
   "source": [
    "# Initial conditions\n",
    "r0 = np.array([perihelion_distance, 0, 0])  # Mercury starts at perihelion\n",
    "v0 = np.array([0, v_perihelion, 0])  # tangential velocity"
   ]
  },
  {
   "cell_type": "code",
   "execution_count": null,
   "metadata": {},
   "outputs": [],
   "source": [
    "def acceleration(r, alpha, beta):\n",
    "    r_mag = np.linalg.norm(r)  # magnitude of the position vector\n",
    "    factor = -G * M_sun / r_mag**3 * (1 + alpha * G * M_sun / (c**2 * r_mag) + beta * (G * M_sun / (c**2 * r_mag))**2)\n",
    "    return factor * r  # acceleration vector\n",
    "\n",
    "def simulate_orbit(alpha, beta):\n",
    "    r = np.zeros((steps, 3))\n",
    "    v = np.zeros((steps, 3))\n",
    "    r[0] = r0\n",
    "    v[0] = v0\n",
    "    \n",
    "    for i in range(steps - 1):\n",
    "        a = acceleration(r[i], alpha, beta)\n",
    "        v_half = v[i] + 0.5 * a * dt * 86400  # days to seconds\n",
    "        r[i+1] = r[i] + v_half * dt * 86400\n",
    "        a_new = acceleration(r[i+1], alpha, beta)\n",
    "        v[i+1] = v_half + 0.5 * a_new * dt * 86400\n",
    "    \n",
    "    return r"
   ]
  },
  {
   "cell_type": "code",
   "execution_count": null,
   "metadata": {},
   "outputs": [],
   "source": [
    "# Runing simulation \n",
    "alpha, beta = 0, 10**6  \n",
    "\n",
    "r = simulate_orbit(alpha, beta)"
   ]
  },
  {
   "cell_type": "code",
   "execution_count": null,
   "metadata": {},
   "outputs": [],
   "source": [
    "# Real-time animation\n",
    "fig, ax = plt.subplots(figsize=(10, 10))\n",
    "ax.set_xlabel('X (AU)')\n",
    "ax.yaxis.label.set_fontsize(20)\n",
    "ax.set_ylabel('Y (AU)')\n",
    "ax.xaxis.label.set_fontsize(20)\n",
    "ax.tick_params(axis=\"both\", which=\"major\", length=10, width=0.5, labelsize=15)\n",
    "ax.tick_params(axis=\"both\", which=\"minor\", length=5, width=0.5, labelsize=15)\n",
    "ax.set_xlim(-0.5, 0.5)\n",
    "ax.set_ylim(-0.5, 0.5)\n",
    "ax.set_aspect('equal')\n",
    "\n",
    "ax.scatter(0, 0, c='yellow', marker='o', s=200, label='Sun')\n",
    "\n",
    "trajectory, = ax.plot([], [], 'r', linewidth=0.2, label='Mercury orbit')\n",
    "mercury_dot, = ax.plot([], [], 'bo', markersize=5, label='Mercury')\n",
    "\n",
    "def init():\n",
    "    trajectory.set_data([], [])\n",
    "    mercury_dot.set_data([], [])\n",
    "    return trajectory, mercury_dot\n",
    "\n",
    "def update(frame):\n",
    "    if frame >= len(r):\n",
    "        return trajectory, mercury_dot\n",
    "    trajectory.set_data(r[:frame+1, 0] / AU, r[:frame+1, 1] / AU)\n",
    "    mercury_dot.set_data([r[frame, 0] / AU], [r[frame, 1] / AU])\n",
    "    return trajectory, mercury_dot\n",
    "\n",
    "ani = animation.FuncAnimation(fig, update, frames=len(r), init_func=init, interval=100, blit=True)\n",
    "plt.legend()\n",
    "plt.tight_layout()\n",
    "\n",
    "display(HTML(ani.to_jshtml()))"
   ]
  },
  {
   "cell_type": "code",
   "execution_count": null,
   "metadata": {},
   "outputs": [],
   "source": [
    "# Static plot\n",
    "fig, ax = plt.subplots(figsize=(10, 10))\n",
    "ax.set_xlabel('X (AU)')\n",
    "ax.yaxis.label.set_fontsize(20)\n",
    "ax.set_ylabel('Y (AU)')\n",
    "ax.xaxis.label.set_fontsize(20)\n",
    "ax.tick_params(axis=\"both\", which=\"major\", length=10, width=0.5, labelsize=15)\n",
    "ax.tick_params(axis=\"both\", which=\"minor\", length=5, width=0.5, labelsize=15)\n",
    " \n",
    "\n",
    "ax.plot(r[:, 0] / AU, r[:, 1] / AU, 'r', linewidth=0.2, label='Mercury orbit')\n",
    "ax.scatter(0, 0, c='yellow', marker='o', s=200, label='Sun')\n",
    "\n",
    "ax.legend()\n",
    "\n",
    "plt.tight_layout() \n",
    "plt.savefig('images/orbit_simulation.png', bbox_inches='tight')\n",
    "plt.show()"
   ]
  }
 ],
 "metadata": {
  "kernelspec": {
   "display_name": "base",
   "language": "python",
   "name": "python3"
  },
  "language_info": {
   "codemirror_mode": {
    "name": "ipython",
    "version": 3
   },
   "file_extension": ".py",
   "mimetype": "text/x-python",
   "name": "python",
   "nbconvert_exporter": "python",
   "pygments_lexer": "ipython3",
   "version": "3.12.7"
  }
 },
 "nbformat": 4,
 "nbformat_minor": 2
}
